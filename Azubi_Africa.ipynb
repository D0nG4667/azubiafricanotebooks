{
  "nbformat": 4,
  "nbformat_minor": 0,
  "metadata": {
    "colab": {
      "provenance": [],
      "toc_visible": true,
      "authorship_tag": "ABX9TyPYeytXGn/Ja4xRe7ZLPayA",
      "include_colab_link": true
    },
    "kernelspec": {
      "name": "python3",
      "display_name": "Python 3"
    },
    "language_info": {
      "name": "python"
    }
  },
  "cells": [
    {
      "cell_type": "markdown",
      "metadata": {
        "id": "view-in-github",
        "colab_type": "text"
      },
      "source": [
        "<a href=\"https://colab.research.google.com/github/D0nG4667/azubiafricanotebooks/blob/main/Azubi_Africa.ipynb\" target=\"_parent\"><img src=\"https://colab.research.google.com/assets/colab-badge.svg\" alt=\"Open In Colab\"/></a>"
      ]
    },
    {
      "cell_type": "code",
      "execution_count": null,
      "metadata": {
        "colab": {
          "base_uri": "https://localhost:8080/"
        },
        "id": "8tigAcjEFYBE",
        "outputId": "d8fde3ed-5bc0-463c-cae0-11b1e0ac8c6f"
      },
      "outputs": [
        {
          "output_type": "stream",
          "name": "stdout",
          "text": [
            "Hello, World!\n"
          ]
        }
      ],
      "source": [
        "print(\"Hello, World!\")"
      ]
    },
    {
      "cell_type": "markdown",
      "source": [
        "# **String concatenation**"
      ],
      "metadata": {
        "id": "nv7WOOi9TU55"
      }
    },
    {
      "cell_type": "code",
      "source": [
        "first_name = \"Gabriel\"\n",
        "last_name = \"Okundaye\"\n",
        "\n",
        "print(\"Hi, I am \" + first_name + \" \" + last_name)"
      ],
      "metadata": {
        "colab": {
          "base_uri": "https://localhost:8080/"
        },
        "id": "2bjFTO7BTSiy",
        "outputId": "2ad9f78e-e430-468a-acca-c9e3d51f6111"
      },
      "execution_count": null,
      "outputs": [
        {
          "output_type": "stream",
          "name": "stdout",
          "text": [
            "Hi, I am Gabriel Okundaye\n"
          ]
        }
      ]
    },
    {
      "cell_type": "markdown",
      "source": [
        "# **F-Strings**"
      ],
      "metadata": {
        "id": "FafAK7D8VD2S"
      }
    },
    {
      "cell_type": "code",
      "source": [
        "first_name = \"Gabriel\"\n",
        "last_name = \"Okundaye\"\n",
        "print(f\"Hi, I am {first_name} {last_name}\")"
      ],
      "metadata": {
        "colab": {
          "base_uri": "https://localhost:8080/"
        },
        "id": "l72m47UuUmuC",
        "outputId": "5a78d16f-ec26-42fb-d86b-0f1b1ce60678"
      },
      "execution_count": null,
      "outputs": [
        {
          "output_type": "stream",
          "name": "stdout",
          "text": [
            "Hi, I am Gabriel Okundaye\n"
          ]
        }
      ]
    },
    {
      "cell_type": "markdown",
      "source": [
        "# **Numbers**"
      ],
      "metadata": {
        "id": "xpv8q1JDWVRX"
      }
    },
    {
      "cell_type": "code",
      "source": [
        "name = \"Gabriel Okundaye\"\n",
        "age = 9\n",
        "print(f\"Hi, I am {name}. I am {age} years old\")"
      ],
      "metadata": {
        "colab": {
          "base_uri": "https://localhost:8080/"
        },
        "id": "LCKZyc_SWaC-",
        "outputId": "24113e82-f3b7-4d2c-a1ac-6ef83b358f7a"
      },
      "execution_count": null,
      "outputs": [
        {
          "output_type": "stream",
          "name": "stdout",
          "text": [
            "Hi, I am Gabriel Okundaye. I am 9 years old\n"
          ]
        }
      ]
    },
    {
      "cell_type": "markdown",
      "source": [
        "# **Final section**"
      ],
      "metadata": {
        "id": "XBybsNBjXSgj"
      }
    },
    {
      "cell_type": "code",
      "source": [
        "name = input(\"What is your name: \")\n",
        "age = input(\"Hey, how old are you: \")\n",
        "\n",
        "print(f\"Your name is {name} and you're {age} years old\")\n",
        "\n"
      ],
      "metadata": {
        "colab": {
          "base_uri": "https://localhost:8080/"
        },
        "id": "0iwpMK3VXcaI",
        "outputId": "5328ecf6-885e-4325-aaa9-526af3828b05"
      },
      "execution_count": null,
      "outputs": [
        {
          "output_type": "stream",
          "name": "stdout",
          "text": [
            "What is your name: Gabriel\n",
            "Hey, how old are you: 99\n",
            "Your name is Gabriel and you're 99 years old\n"
          ]
        }
      ]
    },
    {
      "cell_type": "markdown",
      "source": [
        "# **Code that interacts with users (Part 1)**"
      ],
      "metadata": {
        "id": "Rguoe7ZNZ5dk"
      }
    },
    {
      "cell_type": "code",
      "source": [
        "full_name = 'Gabriel Okundaye'\n",
        "\n",
        "print(\"Hello,\", full_name)\n",
        "print(\"Hello,\", full_name, \"...!\")\n",
        "print(f\"Hello, {full_name}\")\n",
        "print(\"Hello, {}\".format(full_name))\n",
        "\n",
        "origin, country = 'Nigeria', 'United States'\n",
        "print('Hello, I am from {} living in {}'.format(origin, country))\n"
      ],
      "metadata": {
        "colab": {
          "base_uri": "https://localhost:8080/"
        },
        "id": "Od97ZD-rZ_Lh",
        "outputId": "76788368-cd8f-44b2-89e9-7afada48d9e7"
      },
      "execution_count": null,
      "outputs": [
        {
          "output_type": "stream",
          "name": "stdout",
          "text": [
            "Hello, Gabriel Okundaye\n",
            "Hello, Gabriel Okundaye ...!\n",
            "Hello, Gabriel Okundaye\n",
            "Hello, Gabriel Okundaye\n",
            "Hello, I am from Nigeria living in United States\n"
          ]
        }
      ]
    },
    {
      "cell_type": "markdown",
      "source": [
        "# **Conditional Statement**"
      ],
      "metadata": {
        "id": "meraKVp4csDn"
      }
    },
    {
      "cell_type": "code",
      "source": [
        "age_str = input(\"hey, what is your age: \")\n",
        "age = int(age_str)\n",
        "\n",
        "if (age>0) and (age<=16):\n",
        "  price = 10\n",
        "elif (age>16) and (age<65):\n",
        "  price = 15\n",
        "elif (age>=65):\n",
        "  price = 25\n",
        "else:\n",
        "  price = 0\n",
        "\n",
        "if (price==0):\n",
        "  print(\"Sorry! Somethings is wrong\")\n",
        "else:\n",
        "  print(f\"The Price for your ticket is: {price}\")\n",
        "\n",
        "\n",
        "\n"
      ],
      "metadata": {
        "colab": {
          "base_uri": "https://localhost:8080/"
        },
        "id": "ZOicxcZHcv0p",
        "outputId": "cd5e83ee-ce97-45e9-bb13-6caf1a4842dd"
      },
      "execution_count": null,
      "outputs": [
        {
          "output_type": "stream",
          "name": "stdout",
          "text": [
            "hey, what is your age: 77\n",
            "The Price for your ticket is: 25\n"
          ]
        }
      ]
    },
    {
      "cell_type": "markdown",
      "source": [
        "# **Code that interacts with users (Part 2)**\n",
        "-Loops\n",
        "For and While"
      ],
      "metadata": {
        "id": "ePZ2LfqmfeyY"
      }
    },
    {
      "cell_type": "code",
      "source": [
        "a=5\n",
        "for i in range(a):\n",
        "  print(i)\n",
        "\n",
        "for i in range(10):\n",
        "  print(i)\n",
        "\n",
        "full_names = ['Bill Gates', 'Elon Musk', 'Steve Jobs']\n",
        "\n",
        "for full_name in full_names:\n",
        "  print(full_name)"
      ],
      "metadata": {
        "colab": {
          "base_uri": "https://localhost:8080/"
        },
        "id": "8A9bWd_AfjGR",
        "outputId": "68783bc4-251a-44f4-bad8-958e38a44b04"
      },
      "execution_count": 36,
      "outputs": [
        {
          "output_type": "stream",
          "name": "stdout",
          "text": [
            "0\n",
            "1\n",
            "2\n",
            "3\n",
            "4\n",
            "0\n",
            "1\n",
            "2\n",
            "3\n",
            "4\n",
            "5\n",
            "6\n",
            "7\n",
            "8\n",
            "9\n",
            "Bill Gates\n",
            "Elon Musk\n",
            "Steve Jobs\n"
          ]
        }
      ]
    },
    {
      "cell_type": "code",
      "source": [
        "a = 0\n",
        "\n",
        "while (a < 5):\n",
        "  a+=1\n",
        "  print(\"We like Python\")\n",
        "\n",
        "print(\"End of while\")"
      ],
      "metadata": {
        "colab": {
          "base_uri": "https://localhost:8080/"
        },
        "id": "_97vwBoThlU9",
        "outputId": "dc9fab75-4c72-4629-be81-2a8fd3914164"
      },
      "execution_count": 38,
      "outputs": [
        {
          "output_type": "stream",
          "name": "stdout",
          "text": [
            "We like Python\n",
            "We like Python\n",
            "We like Python\n",
            "We like Python\n",
            "We like Python\n",
            "End of while\n"
          ]
        }
      ]
    },
    {
      "cell_type": "code",
      "source": [
        "for i in range(1, 7):\n",
        "  for j in range(i):\n",
        "    print(i, end=' ')\n",
        "  print()"
      ],
      "metadata": {
        "colab": {
          "base_uri": "https://localhost:8080/"
        },
        "id": "Iriczt39jb1y",
        "outputId": "bd36fad2-4c40-4386-c8d7-336732cf93e4"
      },
      "execution_count": 49,
      "outputs": [
        {
          "output_type": "stream",
          "name": "stdout",
          "text": [
            "1 \n",
            "2 2 \n",
            "3 3 3 \n",
            "4 4 4 4 \n",
            "5 5 5 5 5 \n",
            "6 6 6 6 6 6 \n"
          ]
        }
      ]
    },
    {
      "cell_type": "markdown",
      "source": [
        "# **Functional Programming**"
      ],
      "metadata": {
        "id": "KbjWt6A6lcPj"
      }
    },
    {
      "cell_type": "code",
      "source": [
        "def cinema_ticket_price(age):\n",
        "  if (age>0) and (age<=16):\n",
        "    price = 10\n",
        "  elif (age>16) and (age<65):\n",
        "    price = 15\n",
        "  elif (age>=65):\n",
        "    price = 25\n",
        "  else:\n",
        "    price = 0\n",
        "\n",
        "  if (price==0):\n",
        "    print(\"Sorry! Somethings is wrong\")\n",
        "  else:\n",
        "    print(f\"The Price for your ticket is: {price}\")\n",
        "\n",
        "  return price\n",
        "\n",
        "\n",
        "age_str = input(\"hey, what is your age: \")\n",
        "age = int(age_str)\n",
        "price = cinema_ticket_price(age)\n",
        "\n",
        "print(price)\n",
        "\n"
      ],
      "metadata": {
        "colab": {
          "base_uri": "https://localhost:8080/"
        },
        "id": "TIHRrnXXlhYL",
        "outputId": "7adc6ed7-c0d3-4ffa-bb85-8062390214a0"
      },
      "execution_count": 55,
      "outputs": [
        {
          "output_type": "stream",
          "name": "stdout",
          "text": [
            "hey, what is your age: 15\n",
            "The Price for your ticket is: 10\n",
            "10\n"
          ]
        }
      ]
    },
    {
      "cell_type": "markdown",
      "source": [
        "# **Tip Calculator**"
      ],
      "metadata": {
        "id": "QG7AsMrYqFq2"
      }
    },
    {
      "cell_type": "code",
      "source": [
        "amount = float(input(\"Please enter the total bill: \"))\n",
        "\n",
        "tip_percentage = float(input(\"Please enter your tip percentage as a fraction: \"))\n",
        "\n",
        "no_of_people = int(input(\"Please enter number of people who will split the bill: \"))\n",
        "\n",
        "total_amount = (tip_percentage +  1) * amount\n",
        "\n",
        "print(total_amount)\n",
        "\n",
        "# How much each person pays\n",
        "amount_per_person = total_amount / no_of_people\n",
        "03\n",
        "print(f\"Hi team, the bill per head is {amount_per_person}\")\n"
      ],
      "metadata": {
        "colab": {
          "base_uri": "https://localhost:8080/"
        },
        "id": "FBzz40koqJtr",
        "outputId": "307dca92-bfe7-40f6-bf53-073d2b789e26"
      },
      "execution_count": 64,
      "outputs": [
        {
          "output_type": "stream",
          "name": "stdout",
          "text": [
            "Please enter the total bill: 100\n",
            "Please enter your tip percentage as a fraction: .1\n",
            "Please enter number of people who will split the bill: 5\n",
            "110.00000000000001\n",
            "Hi team, the bill per head is 22.000000000000004\n"
          ]
        }
      ]
    }
  ]
}