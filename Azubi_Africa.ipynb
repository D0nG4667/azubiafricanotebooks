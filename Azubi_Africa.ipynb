{
  "nbformat": 4,
  "nbformat_minor": 0,
  "metadata": {
    "colab": {
      "provenance": [],
      "toc_visible": true,
      "authorship_tag": "ABX9TyNTmLZ4Xm8PlKktSk9oxbeb",
      "include_colab_link": true
    },
    "kernelspec": {
      "name": "python3",
      "display_name": "Python 3"
    },
    "language_info": {
      "name": "python"
    }
  },
  "cells": [
    {
      "cell_type": "markdown",
      "metadata": {
        "id": "view-in-github",
        "colab_type": "text"
      },
      "source": [
        "<a href=\"https://colab.research.google.com/github/D0nG4667/azubiafricanotebooks/blob/main/Azubi_Africa.ipynb\" target=\"_parent\"><img src=\"https://colab.research.google.com/assets/colab-badge.svg\" alt=\"Open In Colab\"/></a>"
      ]
    },
    {
      "cell_type": "code",
      "execution_count": 1,
      "metadata": {
        "colab": {
          "base_uri": "https://localhost:8080/"
        },
        "id": "8tigAcjEFYBE",
        "outputId": "d8fde3ed-5bc0-463c-cae0-11b1e0ac8c6f"
      },
      "outputs": [
        {
          "output_type": "stream",
          "name": "stdout",
          "text": [
            "Hello, World!\n"
          ]
        }
      ],
      "source": [
        "print(\"Hello, World!\")"
      ]
    },
    {
      "cell_type": "markdown",
      "source": [
        "# **String concatenation**"
      ],
      "metadata": {
        "id": "nv7WOOi9TU55"
      }
    },
    {
      "cell_type": "code",
      "source": [
        "first_name = \"Gabriel\"\n",
        "last_name = \"Okundaye\"\n",
        "\n",
        "print(\"Hi, I am \" + first_name + \" \" + last_name)"
      ],
      "metadata": {
        "colab": {
          "base_uri": "https://localhost:8080/"
        },
        "id": "2bjFTO7BTSiy",
        "outputId": "2ad9f78e-e430-468a-acca-c9e3d51f6111"
      },
      "execution_count": 4,
      "outputs": [
        {
          "output_type": "stream",
          "name": "stdout",
          "text": [
            "Hi, I am Gabriel Okundaye\n"
          ]
        }
      ]
    },
    {
      "cell_type": "markdown",
      "source": [
        "# **F-Strings**"
      ],
      "metadata": {
        "id": "FafAK7D8VD2S"
      }
    },
    {
      "cell_type": "code",
      "source": [
        "first_name = \"Gabriel\"\n",
        "last_name = \"Okundaye\"\n",
        "print(f\"Hi, I am {first_name} {last_name}\")"
      ],
      "metadata": {
        "colab": {
          "base_uri": "https://localhost:8080/"
        },
        "id": "l72m47UuUmuC",
        "outputId": "5a78d16f-ec26-42fb-d86b-0f1b1ce60678"
      },
      "execution_count": 11,
      "outputs": [
        {
          "output_type": "stream",
          "name": "stdout",
          "text": [
            "Hi, I am Gabriel Okundaye\n"
          ]
        }
      ]
    },
    {
      "cell_type": "markdown",
      "source": [
        "# **Numbers**"
      ],
      "metadata": {
        "id": "xpv8q1JDWVRX"
      }
    },
    {
      "cell_type": "code",
      "source": [
        "name = \"Gabriel Okundaye\"\n",
        "age = 9\n",
        "print(f\"Hi, I am {name}. I am {age} years old\")"
      ],
      "metadata": {
        "colab": {
          "base_uri": "https://localhost:8080/"
        },
        "id": "LCKZyc_SWaC-",
        "outputId": "24113e82-f3b7-4d2c-a1ac-6ef83b358f7a"
      },
      "execution_count": 13,
      "outputs": [
        {
          "output_type": "stream",
          "name": "stdout",
          "text": [
            "Hi, I am Gabriel Okundaye. I am 9 years old\n"
          ]
        }
      ]
    },
    {
      "cell_type": "markdown",
      "source": [
        "# **Final section**"
      ],
      "metadata": {
        "id": "XBybsNBjXSgj"
      }
    },
    {
      "cell_type": "code",
      "source": [
        "name = input(\"What is your name: \")\n",
        "age = input(\"Hey, how old are you: \")\n",
        "\n",
        "print(f\"Your name is {name} and you're {age} years old\")\n",
        "\n"
      ],
      "metadata": {
        "colab": {
          "base_uri": "https://localhost:8080/"
        },
        "id": "0iwpMK3VXcaI",
        "outputId": "5328ecf6-885e-4325-aaa9-526af3828b05"
      },
      "execution_count": 14,
      "outputs": [
        {
          "output_type": "stream",
          "name": "stdout",
          "text": [
            "What is your name: Gabriel\n",
            "Hey, how old are you: 99\n",
            "Your name is Gabriel and you're 99 years old\n"
          ]
        }
      ]
    }
  ]
}